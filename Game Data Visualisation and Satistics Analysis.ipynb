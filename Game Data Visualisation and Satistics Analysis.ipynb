{
 "cells": [
  {
   "cell_type": "markdown",
   "id": "fe54fd5e",
   "metadata": {},
   "source": [
    "# GAME"
   ]
  },
  {
   "cell_type": "code",
   "execution_count": 1,
   "id": "815671e6",
   "metadata": {},
   "outputs": [],
   "source": [
    "import pandas as pd\n",
    "Data = pd.read_excel('Game.xlsx', sheet_name=['Objective and Instructions', 'Game_data'])"
   ]
  },
  {
   "cell_type": "code",
   "execution_count": 2,
   "id": "c89a47a3",
   "metadata": {},
   "outputs": [],
   "source": [
    "Game = Data.get('Game_data')"
   ]
  },
  {
   "cell_type": "code",
   "execution_count": 38,
   "id": "ae0fe2bf",
   "metadata": {},
   "outputs": [
    {
     "data": {
      "text/html": [
       "<div>\n",
       "<style scoped>\n",
       "    .dataframe tbody tr th:only-of-type {\n",
       "        vertical-align: middle;\n",
       "    }\n",
       "\n",
       "    .dataframe tbody tr th {\n",
       "        vertical-align: top;\n",
       "    }\n",
       "\n",
       "    .dataframe thead th {\n",
       "        text-align: right;\n",
       "    }\n",
       "</style>\n",
       "<table border=\"1\" class=\"dataframe\">\n",
       "  <thead>\n",
       "    <tr style=\"text-align: right;\">\n",
       "      <th></th>\n",
       "      <th>ID</th>\n",
       "      <th>Name</th>\n",
       "      <th>Age</th>\n",
       "      <th>Photo</th>\n",
       "      <th>Nationality</th>\n",
       "      <th>Flag</th>\n",
       "      <th>Overall</th>\n",
       "      <th>Potential</th>\n",
       "      <th>Club</th>\n",
       "      <th>Club Logo</th>\n",
       "      <th>...</th>\n",
       "      <th>Composure</th>\n",
       "      <th>Marking</th>\n",
       "      <th>StandingTackle</th>\n",
       "      <th>SlidingTackle</th>\n",
       "      <th>GKDiving</th>\n",
       "      <th>GKHandling</th>\n",
       "      <th>GKKicking</th>\n",
       "      <th>GKPositioning</th>\n",
       "      <th>GKReflexes</th>\n",
       "      <th>Release Clause</th>\n",
       "    </tr>\n",
       "  </thead>\n",
       "  <tbody>\n",
       "    <tr>\n",
       "      <th>0</th>\n",
       "      <td>16</td>\n",
       "      <td>Luis García</td>\n",
       "      <td>37</td>\n",
       "      <td>https://cdn.sofifa.org/players/4/19/16.png</td>\n",
       "      <td>Spain</td>\n",
       "      <td>https://cdn.sofifa.org/flags/45.png</td>\n",
       "      <td>71</td>\n",
       "      <td>71</td>\n",
       "      <td>KAS Eupen</td>\n",
       "      <td>https://cdn.sofifa.org/teams/2/light/2013.png</td>\n",
       "      <td>...</td>\n",
       "      <td>79.0</td>\n",
       "      <td>70.0</td>\n",
       "      <td>43.0</td>\n",
       "      <td>40.0</td>\n",
       "      <td>9.0</td>\n",
       "      <td>12.0</td>\n",
       "      <td>13.0</td>\n",
       "      <td>11.0</td>\n",
       "      <td>11.0</td>\n",
       "      <td>€1.1M</td>\n",
       "    </tr>\n",
       "    <tr>\n",
       "      <th>1</th>\n",
       "      <td>41</td>\n",
       "      <td>Iniesta</td>\n",
       "      <td>34</td>\n",
       "      <td>https://cdn.sofifa.org/players/4/19/41.png</td>\n",
       "      <td>Spain</td>\n",
       "      <td>https://cdn.sofifa.org/flags/45.png</td>\n",
       "      <td>86</td>\n",
       "      <td>86</td>\n",
       "      <td>Vissel Kobe</td>\n",
       "      <td>https://cdn.sofifa.org/teams/2/light/101146.png</td>\n",
       "      <td>...</td>\n",
       "      <td>89.0</td>\n",
       "      <td>67.0</td>\n",
       "      <td>57.0</td>\n",
       "      <td>56.0</td>\n",
       "      <td>6.0</td>\n",
       "      <td>13.0</td>\n",
       "      <td>6.0</td>\n",
       "      <td>13.0</td>\n",
       "      <td>7.0</td>\n",
       "      <td>€26.9M</td>\n",
       "    </tr>\n",
       "    <tr>\n",
       "      <th>2</th>\n",
       "      <td>80</td>\n",
       "      <td>E. Belözoğlu</td>\n",
       "      <td>37</td>\n",
       "      <td>https://cdn.sofifa.org/players/4/19/80.png</td>\n",
       "      <td>Turkey</td>\n",
       "      <td>https://cdn.sofifa.org/flags/48.png</td>\n",
       "      <td>79</td>\n",
       "      <td>79</td>\n",
       "      <td>Medipol Başakşehir FK</td>\n",
       "      <td>https://cdn.sofifa.org/teams/2/light/101014.png</td>\n",
       "      <td>...</td>\n",
       "      <td>80.0</td>\n",
       "      <td>65.0</td>\n",
       "      <td>67.0</td>\n",
       "      <td>60.0</td>\n",
       "      <td>7.0</td>\n",
       "      <td>11.0</td>\n",
       "      <td>7.0</td>\n",
       "      <td>14.0</td>\n",
       "      <td>8.0</td>\n",
       "      <td>€7.6M</td>\n",
       "    </tr>\n",
       "    <tr>\n",
       "      <th>3</th>\n",
       "      <td>164</td>\n",
       "      <td>G. Pinzi</td>\n",
       "      <td>37</td>\n",
       "      <td>https://cdn.sofifa.org/players/4/19/164.png</td>\n",
       "      <td>Italy</td>\n",
       "      <td>https://cdn.sofifa.org/flags/27.png</td>\n",
       "      <td>70</td>\n",
       "      <td>70</td>\n",
       "      <td>Padova</td>\n",
       "      <td>https://cdn.sofifa.org/teams/2/light/110912.png</td>\n",
       "      <td>...</td>\n",
       "      <td>68.0</td>\n",
       "      <td>74.0</td>\n",
       "      <td>71.0</td>\n",
       "      <td>66.0</td>\n",
       "      <td>5.0</td>\n",
       "      <td>15.0</td>\n",
       "      <td>7.0</td>\n",
       "      <td>6.0</td>\n",
       "      <td>13.0</td>\n",
       "      <td>€372K</td>\n",
       "    </tr>\n",
       "    <tr>\n",
       "      <th>4</th>\n",
       "      <td>657</td>\n",
       "      <td>D. Vaughan</td>\n",
       "      <td>35</td>\n",
       "      <td>https://cdn.sofifa.org/players/4/19/657.png</td>\n",
       "      <td>Wales</td>\n",
       "      <td>https://cdn.sofifa.org/flags/50.png</td>\n",
       "      <td>66</td>\n",
       "      <td>66</td>\n",
       "      <td>Notts County</td>\n",
       "      <td>https://cdn.sofifa.org/teams/2/light/1937.png</td>\n",
       "      <td>...</td>\n",
       "      <td>82.0</td>\n",
       "      <td>59.0</td>\n",
       "      <td>66.0</td>\n",
       "      <td>62.0</td>\n",
       "      <td>6.0</td>\n",
       "      <td>9.0</td>\n",
       "      <td>10.0</td>\n",
       "      <td>9.0</td>\n",
       "      <td>7.0</td>\n",
       "      <td>€263K</td>\n",
       "    </tr>\n",
       "  </tbody>\n",
       "</table>\n",
       "<p>5 rows × 88 columns</p>\n",
       "</div>"
      ],
      "text/plain": [
       "    ID          Name  Age                                        Photo  \\\n",
       "0   16   Luis García   37   https://cdn.sofifa.org/players/4/19/16.png   \n",
       "1   41       Iniesta   34   https://cdn.sofifa.org/players/4/19/41.png   \n",
       "2   80  E. Belözoğlu   37   https://cdn.sofifa.org/players/4/19/80.png   \n",
       "3  164      G. Pinzi   37  https://cdn.sofifa.org/players/4/19/164.png   \n",
       "4  657    D. Vaughan   35  https://cdn.sofifa.org/players/4/19/657.png   \n",
       "\n",
       "  Nationality                                 Flag  Overall  Potential  \\\n",
       "0       Spain  https://cdn.sofifa.org/flags/45.png       71         71   \n",
       "1       Spain  https://cdn.sofifa.org/flags/45.png       86         86   \n",
       "2      Turkey  https://cdn.sofifa.org/flags/48.png       79         79   \n",
       "3       Italy  https://cdn.sofifa.org/flags/27.png       70         70   \n",
       "4       Wales  https://cdn.sofifa.org/flags/50.png       66         66   \n",
       "\n",
       "                    Club                                        Club Logo  \\\n",
       "0              KAS Eupen    https://cdn.sofifa.org/teams/2/light/2013.png   \n",
       "1            Vissel Kobe  https://cdn.sofifa.org/teams/2/light/101146.png   \n",
       "2  Medipol Başakşehir FK  https://cdn.sofifa.org/teams/2/light/101014.png   \n",
       "3                 Padova  https://cdn.sofifa.org/teams/2/light/110912.png   \n",
       "4           Notts County    https://cdn.sofifa.org/teams/2/light/1937.png   \n",
       "\n",
       "   ... Composure Marking  StandingTackle SlidingTackle  GKDiving  GKHandling  \\\n",
       "0  ...      79.0    70.0            43.0          40.0       9.0        12.0   \n",
       "1  ...      89.0    67.0            57.0          56.0       6.0        13.0   \n",
       "2  ...      80.0    65.0            67.0          60.0       7.0        11.0   \n",
       "3  ...      68.0    74.0            71.0          66.0       5.0        15.0   \n",
       "4  ...      82.0    59.0            66.0          62.0       6.0         9.0   \n",
       "\n",
       "   GKKicking GKPositioning GKReflexes Release Clause  \n",
       "0       13.0          11.0       11.0          €1.1M  \n",
       "1        6.0          13.0        7.0         €26.9M  \n",
       "2        7.0          14.0        8.0          €7.6M  \n",
       "3        7.0           6.0       13.0          €372K  \n",
       "4       10.0           9.0        7.0          €263K  \n",
       "\n",
       "[5 rows x 88 columns]"
      ]
     },
     "execution_count": 38,
     "metadata": {},
     "output_type": "execute_result"
    }
   ],
   "source": [
    "Game.head()"
   ]
  },
  {
   "cell_type": "code",
   "execution_count": 81,
   "id": "43b89634",
   "metadata": {},
   "outputs": [],
   "source": [
    "Game = Game.fillna(0)"
   ]
  },
  {
   "cell_type": "code",
   "execution_count": 82,
   "id": "58644d68",
   "metadata": {},
   "outputs": [
    {
     "data": {
      "text/plain": [
       "Index(['ID', 'Name', 'Age', 'Photo', 'Nationality', 'Flag', 'Overall',\n",
       "       'Potential', 'Club', 'Club Logo', 'Value', 'Wage', 'Special',\n",
       "       'Preferred Foot', 'International Reputation', 'Weak Foot',\n",
       "       'Skill Moves', 'Work Rate', 'Body Type', 'Real Face', 'Position',\n",
       "       'Jersey Number', 'Joined', 'Loaned From', 'Contract Valid Until',\n",
       "       'Height', 'Weight', 'LS', 'ST', 'RS', 'LW', 'LF', 'CF', 'RF', 'RW',\n",
       "       'LAM', 'CAM', 'RAM', 'LM', 'LCM', 'CM', 'RCM', 'RM', 'LWB', 'LDM',\n",
       "       'CDM', 'RDM', 'RWB', 'LB', 'LCB', 'CB', 'RCB', 'RB', 'Crossing',\n",
       "       'Finishing', 'HeadingAccuracy', 'ShortPassing', 'Volleys', 'Dribbling',\n",
       "       'Curve', 'FKAccuracy', 'LongPassing', 'BallControl', 'Acceleration',\n",
       "       'SprintSpeed', 'Agility', 'Reactions', 'Balance', 'ShotPower',\n",
       "       'Jumping', 'Stamina', 'Strength', 'LongShots', 'Aggression',\n",
       "       'Interceptions', 'Positioning', 'Vision', 'Penalties', 'Composure',\n",
       "       'Marking', 'StandingTackle', 'SlidingTackle', 'GKDiving', 'GKHandling',\n",
       "       'GKKicking', 'GKPositioning', 'GKReflexes', 'Release Clause'],\n",
       "      dtype='object')"
      ]
     },
     "execution_count": 82,
     "metadata": {},
     "output_type": "execute_result"
    }
   ],
   "source": [
    "Game.columns"
   ]
  },
  {
   "cell_type": "markdown",
   "id": "a29bf3e9",
   "metadata": {},
   "source": [
    "## 1\tOutliers for Wages"
   ]
  },
  {
   "cell_type": "code",
   "execution_count": 83,
   "id": "28c670ce",
   "metadata": {},
   "outputs": [],
   "source": [
    "import seaborn as sns\n",
    "# Create new variable G to avoid changes Game['Wage']\n",
    "G = Game['Wage']"
   ]
  },
  {
   "cell_type": "markdown",
   "id": "8b0e398d",
   "metadata": {},
   "source": [
    "### Repalce Currency with empty space\n",
    "### Replace K with 1000\n",
    "### Fill NaN float values with 0\n",
    "### Convert float Data to int Data"
   ]
  },
  {
   "cell_type": "code",
   "execution_count": 84,
   "id": "b749cc47",
   "metadata": {},
   "outputs": [
    {
     "name": "stderr",
     "output_type": "stream",
     "text": [
      "/opt/anaconda3/lib/python3.8/site-packages/seaborn/_decorators.py:36: FutureWarning: Pass the following variable as a keyword arg: x. From version 0.12, the only valid positional argument will be `data`, and passing other arguments without an explicit keyword will result in an error or misinterpretation.\n",
      "  warnings.warn(\n"
     ]
    },
    {
     "data": {
      "text/plain": [
       "<AxesSubplot:xlabel='Wage'>"
      ]
     },
     "execution_count": 84,
     "metadata": {},
     "output_type": "execute_result"
    },
    {
     "data": {
      "image/png": "[encoded data removed]",
      "text/plain": [
       "<Figure size 432x288 with 1 Axes>"
      ]
     },
     "metadata": {
      "needs_background": "light"
     },
     "output_type": "display_data"
    }
   ],
   "source": [
    "G = G.str.replace('€', '')\n",
    "G = G.str.replace('K', '1000')\n",
    "G = G.fillna(0)\n",
    "G = G.astype(int)\n",
    "sns.boxplot(G)"
   ]
  },
  {
   "cell_type": "markdown",
   "id": "a2e59941",
   "metadata": {},
   "source": [
    "## 2 Analyze the distribution for potential column"
   ]
  },
  {
   "cell_type": "code",
   "execution_count": 7,
   "id": "45ef94a3",
   "metadata": {},
   "outputs": [
    {
     "data": {
      "text/plain": [
       "<AxesSubplot:ylabel='Density'>"
      ]
     },
     "execution_count": 7,
     "metadata": {},
     "output_type": "execute_result"
    },
    {
     "data": {
      "image/png": "[encoded data removed]",
      "text/plain": [
       "<Figure size 432x288 with 1 Axes>"
      ]
     },
     "metadata": {
      "needs_background": "light"
     },
     "output_type": "display_data"
    }
   ],
   "source": [
    "Game['Potential'].plot(kind='kde')"
   ]
  },
  {
   "cell_type": "code",
   "execution_count": 16,
   "id": "c28b2dbf",
   "metadata": {},
   "outputs": [
    {
     "data": {
      "image/png": "[encoded data removed]",
      "text/plain": [
       "<Figure size 432x288 with 1 Axes>"
      ]
     },
     "metadata": {
      "needs_background": "light"
     },
     "output_type": "display_data"
    }
   ],
   "source": [
    "import numpy as np\n",
    "import matplotlib.pyplot as plt\n",
    "  \n",
    "# Mean of the distribution\n",
    "Mean = np.mean(Game['Potential'])\n",
    " \n",
    "# satndard deviation of the distribution\n",
    "Standard_deviation  =  np.std(Game['Potential'])\n",
    "  \n",
    "# size\n",
    "size = len(Game['Potential'])\n",
    "  \n",
    "# creating a normal distribution data\n",
    "values = np.random.normal(Mean, Standard_deviation, size)\n",
    "  \n",
    "# plotting histograph\n",
    "plt.hist(values, 100)\n",
    "# plotting mean line\n",
    "plt.axvline(values.mean(), color='k', linestyle='dashed', linewidth=2)\n",
    "plt.show()"
   ]
  },
  {
   "cell_type": "markdown",
   "id": "9492e5ba",
   "metadata": {},
   "source": []
  },
  {
   "cell_type": "markdown",
   "id": "44c815f6",
   "metadata": {},
   "source": [
    "## 3 Difference between normal and student t distribution explain it using 'potential' column."
   ]
  },
  {
   "cell_type": "markdown",
   "id": "91c026d0",
   "metadata": {},
   "source": [
    "### Student t Distribution"
   ]
  },
  {
   "cell_type": "code",
   "execution_count": 37,
   "id": "68535c1c",
   "metadata": {},
   "outputs": [
    {
     "data": {
      "image/png": "[encoded data removed]",
      "text/plain": [
       "<Figure size 432x288 with 1 Axes>"
      ]
     },
     "metadata": {
      "needs_background": "light"
     },
     "output_type": "display_data"
    }
   ],
   "source": [
    "import matplotlib.pyplot as plt\n",
    "from scipy.stats import t\n",
    " \n",
    "x = np.linspace(0, 5, 100)\n",
    " \n",
    "# Varying positional arguments\n",
    "y1 = t.pdf(x, 1, 3)\n",
    "plt.plot(x, y1, color='green')\n",
    "plt.show()"
   ]
  },
  {
   "cell_type": "code",
   "execution_count": 66,
   "id": "06cba34e",
   "metadata": {},
   "outputs": [],
   "source": [
    "df = len(Game['Potential']) - 1\n",
    "mean, var, skew, kurt = t.stats(df, moments='mvsk')"
   ]
  },
  {
   "cell_type": "markdown",
   "id": "12dd64d5",
   "metadata": {},
   "source": [
    "- T distributions have higher kurtosis than normal distributions"
   ]
  },
  {
   "cell_type": "code",
   "execution_count": 60,
   "id": "6640d6c4",
   "metadata": {},
   "outputs": [
    {
     "data": {
      "text/plain": [
       "True"
      ]
     },
     "execution_count": 60,
     "metadata": {},
     "output_type": "execute_result"
    }
   ],
   "source": [
    "kurt > mean"
   ]
  },
  {
   "cell_type": "markdown",
   "id": "3dfbb057",
   "metadata": {},
   "source": [
    "- The probability of getting values very far from the mean is larger with a T distribution than a normal distribution."
   ]
  },
  {
   "cell_type": "code",
   "execution_count": 70,
   "id": "4a6b3fb1",
   "metadata": {},
   "outputs": [
    {
     "data": {
      "text/plain": [
       "(array([       -inf, -1.64005936, -1.27586308, -1.02998591, -0.83444644,\n",
       "        -0.66657748, -0.51571376, -0.375799  , -0.24290619, -0.11418688,\n",
       "         0.01266025,  0.13971225,  0.2690701 ,  0.40311456,  0.54485694,\n",
       "         0.69853998,  0.87086677,  1.07401926,  1.33522876,  1.7461136 ,\n",
       "                nan,         nan,         nan,         nan,         nan,\n",
       "                nan,         nan,         nan,         nan,         nan,\n",
       "                nan,         nan,         nan,         nan,         nan,\n",
       "                nan,         nan,         nan,         nan,         nan,\n",
       "                nan,         nan,         nan,         nan,         nan,\n",
       "                nan,         nan,         nan,         nan,         nan,\n",
       "                nan,         nan,         nan,         nan,         nan,\n",
       "                nan,         nan,         nan,         nan,         nan,\n",
       "                nan,         nan,         nan,         nan,         nan,\n",
       "                nan,         nan,         nan,         nan,         nan,\n",
       "                nan,         nan,         nan,         nan,         nan,\n",
       "                nan,         nan,         nan,         nan,         nan,\n",
       "                nan,         nan,         nan,         nan,         nan,\n",
       "                nan,         nan,         nan,         nan,         nan,\n",
       "                nan,         nan,         nan,         nan,         nan,\n",
       "                nan,         nan,         nan,         nan,         nan]),)"
      ]
     },
     "execution_count": 70,
     "metadata": {},
     "output_type": "execute_result"
    }
   ],
   "source": [
    "x = np.linspace(0, 5, 100)\n",
    "t.ppf(x, df),"
   ]
  },
  {
   "cell_type": "markdown",
   "id": "3e0c6686",
   "metadata": {},
   "source": [
    "### Normal Distribution"
   ]
  },
  {
   "cell_type": "code",
   "execution_count": 64,
   "id": "0a1d1a5e",
   "metadata": {},
   "outputs": [
    {
     "data": {
      "image/png": "[encoded data removed]",
      "text/plain": [
       "<Figure size 432x288 with 1 Axes>"
      ]
     },
     "metadata": {
      "needs_background": "light"
     },
     "output_type": "display_data"
    }
   ],
   "source": [
    "import numpy as np\n",
    "import matplotlib.pyplot as plt\n",
    "  \n",
    "# Mean of the distribution\n",
    "Mean = np.mean(Game['Potential'])\n",
    " \n",
    "# satndard deviation of the distribution\n",
    "Standard_deviation  =  np.std(Game['Potential'])\n",
    "  \n",
    "# size\n",
    "size = len(Game['Potential'])\n",
    "  \n",
    "# creating a normal distribution data\n",
    "values = np.random.normal(Mean, Standard_deviation, size)\n",
    "  \n",
    "# plotting histograph\n",
    "plt.hist(values, 100)\n",
    "# plotting mean line\n",
    "plt.axvline(values.mean(), color='k', linestyle='dashed', linewidth=2)\n",
    "plt.show()"
   ]
  },
  {
   "cell_type": "markdown",
   "id": "850b1e6a",
   "metadata": {},
   "source": [
    "- Symmetrical\n",
    "- Bell-shaped\n",
    "- Mean and median are equal; both located at the center of the distribution"
   ]
  },
  {
   "cell_type": "markdown",
   "id": "dfc6ba70",
   "metadata": {},
   "source": [
    "## 4 Difference between normal and standard normal distribution explain it using 'potential' column."
   ]
  },
  {
   "cell_type": "markdown",
   "id": "4a382e9f",
   "metadata": {},
   "source": [
    "### Standard Normal Distribution"
   ]
  },
  {
   "cell_type": "code",
   "execution_count": 55,
   "id": "b75112fd",
   "metadata": {},
   "outputs": [
    {
     "data": {
      "image/png": "[encoded data removed]",
      "text/plain": [
       "<Figure size 432x288 with 1 Axes>"
      ]
     },
     "metadata": {
      "needs_background": "light"
     },
     "output_type": "display_data"
    }
   ],
   "source": [
    "import numpy as np\n",
    "import matplotlib.pyplot as plt\n",
    "  \n",
    "# size\n",
    "size = len(Game['Potential'])\n",
    "  \n",
    "# creating a normal distribution data\n",
    "values = np.random.standard_normal(size)\n",
    "  \n",
    "# plotting histograph\n",
    "plt.hist(values, 100)\n",
    "# plotting mean line\n",
    "plt.axvline(values.mean(), color='k', linestyle='dashed', linewidth=2)\n",
    "plt.show()"
   ]
  },
  {
   "cell_type": "markdown",
   "id": "28ba4b20",
   "metadata": {},
   "source": [
    "- Mean is equal to 0 and \n",
    "- Standard deviation is equal to 1."
   ]
  },
  {
   "cell_type": "markdown",
   "id": "065b5874",
   "metadata": {},
   "source": [
    "### Normal Distribution"
   ]
  },
  {
   "cell_type": "code",
   "execution_count": 49,
   "id": "d5249cad",
   "metadata": {},
   "outputs": [
    {
     "data": {
      "image/png": "[encoded data removed]",
      "text/plain": [
       "<Figure size 432x288 with 1 Axes>"
      ]
     },
     "metadata": {
      "needs_background": "light"
     },
     "output_type": "display_data"
    }
   ],
   "source": [
    "import numpy as np\n",
    "import matplotlib.pyplot as plt\n",
    "  \n",
    "# Mean of the distribution\n",
    "Mean = np.mean(Game['Potential'])\n",
    " \n",
    "# standard deviation of the distribution\n",
    "Standard_deviation  =  np.std(Game['Potential'])\n",
    "  \n",
    "# size\n",
    "size = len(Game['Potential'])\n",
    "  \n",
    "# creating a normal distribution data\n",
    "values = np.random.normal(Mean, Standard_deviation, size)\n",
    "  \n",
    "# plotting histograph\n",
    "plt.hist(values, 100)\n",
    "# plotting mean line\n",
    "plt.axvline(values.mean(), color='k', linestyle='dashed', linewidth=2)\n",
    "plt.show()"
   ]
  },
  {
   "cell_type": "markdown",
   "id": "bb498fa5",
   "metadata": {},
   "source": [
    "- Symmetrical\n",
    "- Bell-shaped\n",
    "- Mean and median are equal; both located at the center of the distribution"
   ]
  },
  {
   "cell_type": "code",
   "execution_count": 52,
   "id": "41b62cb2",
   "metadata": {},
   "outputs": [
    {
     "data": {
      "text/plain": [
       "(71.30729939034437, 71.0)"
      ]
     },
     "execution_count": 52,
     "metadata": {},
     "output_type": "execute_result"
    }
   ],
   "source": [
    "Mean, np.median(Game['Potential'])"
   ]
  },
  {
   "cell_type": "markdown",
   "id": "e54014fe",
   "metadata": {},
   "source": [
    "## 5 find the 95%, 90%, and 99%, confidence interval for 'Potential','wage','weight' column."
   ]
  },
  {
   "cell_type": "code",
   "execution_count": 76,
   "id": "b5265c30",
   "metadata": {},
   "outputs": [
    {
     "name": "stdout",
     "output_type": "stream",
     "text": [
      "We are 95% sure that the true mean lies between 71.2 and  71.4\n"
     ]
    }
   ],
   "source": [
    "# Sample size\n",
    "n = len(Game['Potential'])\n",
    "# Confidence level\n",
    "C = 0.95  # 95%\n",
    "# Significance level, α\n",
    "alpha = 1 - C\n",
    "# Number of tails\n",
    "tails = 2\n",
    "# Quantile (the cumulative probability)\n",
    "q = 1 - (alpha / tails)\n",
    "# Degrees of freedom\n",
    "dof = n - 1\n",
    "# Critical t-statistic, calculated using the percent-point function (aka the\n",
    "# quantile function) of the t-distribution\n",
    "\n",
    "t_star = t.ppf(q, dof)\n",
    "# Confidence interval\n",
    "x_bar = np.mean(Game['Potential'])\n",
    "s = np.std(Game['Potential'])\n",
    "ci_upper = x_bar + t_star * s / np.sqrt(n)\n",
    "ci_lower = x_bar - t_star * s / np.sqrt(n)\n",
    "\n",
    "print(f'We are 95% sure that the true mean lies between {ci_lower:4.1f} and {ci_upper:5.1f}')"
   ]
  },
  {
   "cell_type": "code",
   "execution_count": 86,
   "id": "4b2bea60",
   "metadata": {},
   "outputs": [
    {
     "name": "stdout",
     "output_type": "stream",
     "text": [
      "We are 95% sure that the true mean lies between 95104.2 and 101495.6\n"
     ]
    }
   ],
   "source": [
    "# Sample size\n",
    "n = len(Game['Wage'])\n",
    "# Confidence level\n",
    "C = 0.95  # 95%\n",
    "# Significance level, α\n",
    "alpha = 1 - C\n",
    "# Number of tails\n",
    "tails = 2\n",
    "# Quantile (the cumulative probability)\n",
    "q = 1 - (alpha / tails)\n",
    "# Degrees of freedom\n",
    "dof = n - 1\n",
    "# Critical t-statistic, calculated using the percent-point function (aka the\n",
    "# quantile function) of the t-distribution\n",
    "\n",
    "t_star = t.ppf(q, dof)\n",
    "# Confidence interval\n",
    "x_bar = np.mean(G)\n",
    "s = np.std(G)\n",
    "ci_upper = x_bar + t_star * s / np.sqrt(n)\n",
    "ci_lower = x_bar - t_star * s / np.sqrt(n)\n",
    "\n",
    "print(f'We are 95% sure that the true mean lies between {ci_lower:4.1f} and {ci_upper:5.1f}')"
   ]
  },
  {
   "cell_type": "code",
   "execution_count": 90,
   "id": "86c0d74c",
   "metadata": {},
   "outputs": [],
   "source": [
    "W = Game['Weight']"
   ]
  },
  {
   "cell_type": "code",
   "execution_count": 91,
   "id": "7111b3e9",
   "metadata": {},
   "outputs": [],
   "source": [
    "W = W.str.replace('lbs', '')\n",
    "W = W.fillna(0)\n",
    "W = W.astype(int)"
   ]
  },
  {
   "cell_type": "code",
   "execution_count": 92,
   "id": "ea3dd500",
   "metadata": {},
   "outputs": [
    {
     "name": "stdout",
     "output_type": "stream",
     "text": [
      "We are 95% sure that the true mean lies between 165.3 and 165.8\n"
     ]
    }
   ],
   "source": [
    "# Sample size\n",
    "n = len(W)\n",
    "# Confidence level\n",
    "C = 0.95  # 95%\n",
    "# Significance level, α\n",
    "alpha = 1 - C\n",
    "# Number of tails\n",
    "tails = 2\n",
    "# Quantile (the cumulative probability)\n",
    "q = 1 - (alpha / tails)\n",
    "# Degrees of freedom\n",
    "dof = n - 1\n",
    "# Critical t-statistic, calculated using the percent-point function (aka the\n",
    "# quantile function) of the t-distribution\n",
    "\n",
    "t_star = t.ppf(q, dof)\n",
    "# Confidence interval\n",
    "x_bar = np.mean(W)\n",
    "s = np.std(W)\n",
    "ci_upper = x_bar + t_star * s / np.sqrt(n)\n",
    "ci_lower = x_bar - t_star * s / np.sqrt(n)\n",
    "\n",
    "print(f'We are 95% sure that the true mean lies between {ci_lower:4.1f} and {ci_upper:5.1f}')"
   ]
  },
  {
   "cell_type": "markdown",
   "id": "f3d6748c",
   "metadata": {},
   "source": [
    "### C = 90"
   ]
  },
  {
   "cell_type": "code",
   "execution_count": 96,
   "id": "ac22400b",
   "metadata": {},
   "outputs": [
    {
     "name": "stdout",
     "output_type": "stream",
     "text": [
      "We are 90% sure that the true mean lies between 71.2 and  71.4\n"
     ]
    }
   ],
   "source": [
    "# Sample size\n",
    "n = len(Game['Potential'])\n",
    "# Confidence level\n",
    "C = 0.90  # 90%\n",
    "# Significance level, α\n",
    "alpha = 1 - C\n",
    "# Number of tails\n",
    "tails = 2\n",
    "# Quantile (the cumulative probability)\n",
    "q = 1 - (alpha / tails)\n",
    "# Degrees of freedom\n",
    "dof = n - 1\n",
    "# Critical t-statistic, calculated using the percent-point function (aka the\n",
    "# quantile function) of the t-distribution\n",
    "\n",
    "t_star = t.ppf(q, dof)\n",
    "# Confidence interval\n",
    "x_bar = np.mean(Game['Potential'])\n",
    "s = np.std(Game['Potential'])\n",
    "ci_upper = x_bar + t_star * s / np.sqrt(n)\n",
    "ci_lower = x_bar - t_star * s / np.sqrt(n)\n",
    "\n",
    "print(f'We are 90% sure that the true mean lies between {ci_lower:4.1f} and {ci_upper:5.1f}')"
   ]
  },
  {
   "cell_type": "code",
   "execution_count": 95,
   "id": "1d5dce71",
   "metadata": {},
   "outputs": [
    {
     "name": "stdout",
     "output_type": "stream",
     "text": [
      "We are 90% sure that the true mean lies between 95618.0 and 100981.8\n"
     ]
    }
   ],
   "source": [
    "# Sample size\n",
    "n = len(G)\n",
    "# Confidence level\n",
    "C = 0.90  # 90%\n",
    "# Significance level, α\n",
    "alpha = 1 - C\n",
    "# Number of tails\n",
    "tails = 2\n",
    "# Quantile (the cumulative probability)\n",
    "q = 1 - (alpha / tails)\n",
    "# Degrees of freedom\n",
    "dof = n - 1\n",
    "# Critical t-statistic, calculated using the percent-point function (aka the\n",
    "# quantile function) of the t-distribution\n",
    "\n",
    "t_star = t.ppf(q, dof)\n",
    "# Confidence interval\n",
    "x_bar = np.mean(G)\n",
    "s = np.std(G)\n",
    "ci_upper = x_bar + t_star * s / np.sqrt(n)\n",
    "ci_lower = x_bar - t_star * s / np.sqrt(n)\n",
    "\n",
    "print(f'We are 90% sure that the true mean lies between {ci_lower:4.1f} and {ci_upper:5.1f}')"
   ]
  },
  {
   "cell_type": "code",
   "execution_count": 97,
   "id": "57c2f798",
   "metadata": {},
   "outputs": [
    {
     "name": "stdout",
     "output_type": "stream",
     "text": [
      "We are 90% sure that the true mean lies between 165.3 and 165.8\n"
     ]
    }
   ],
   "source": [
    "# Sample size\n",
    "n = len(W)\n",
    "# Confidence level\n",
    "C = 0.90  # 90%\n",
    "# Significance level, α\n",
    "alpha = 1 - C\n",
    "# Number of tails\n",
    "tails = 2\n",
    "# Quantile (the cumulative probability)\n",
    "q = 1 - (alpha / tails)\n",
    "# Degrees of freedom\n",
    "dof = n - 1\n",
    "# Critical t-statistic, calculated using the percent-point function (aka the\n",
    "# quantile function) of the t-distribution\n",
    "\n",
    "t_star = t.ppf(q, dof)\n",
    "# Confidence interval\n",
    "x_bar = np.mean(W)\n",
    "s = np.std(W)\n",
    "ci_upper = x_bar + t_star * s / np.sqrt(n)\n",
    "ci_lower = x_bar - t_star * s / np.sqrt(n)\n",
    "\n",
    "print(f'We are 90% sure that the true mean lies between {ci_lower:4.1f} and {ci_upper:5.1f}')"
   ]
  },
  {
   "cell_type": "markdown",
   "id": "ff0f6250",
   "metadata": {},
   "source": [
    "### C = 99"
   ]
  },
  {
   "cell_type": "code",
   "execution_count": 100,
   "id": "2b88eaaf",
   "metadata": {},
   "outputs": [
    {
     "name": "stdout",
     "output_type": "stream",
     "text": [
      "We are 99% sure that the true mean lies between 71.2 and  71.4\n"
     ]
    }
   ],
   "source": [
    "# Sample size\n",
    "n = len(Game['Potential'])\n",
    "# Confidence level\n",
    "C = 0.99  # 99%\n",
    "# Significance level, α\n",
    "alpha = 1 - C\n",
    "# Number of tails\n",
    "tails = 2\n",
    "# Quantile (the cumulative probability)\n",
    "q = 1 - (alpha / tails)\n",
    "# Degrees of freedom\n",
    "dof = n - 1\n",
    "# Critical t-statistic, calculated using the percent-point function (aka the\n",
    "# quantile function) of the t-distribution\n",
    "\n",
    "t_star = t.ppf(q, dof)\n",
    "# Confidence interval\n",
    "x_bar = np.mean(Game['Potential'])\n",
    "s = np.std(Game['Potential'])\n",
    "ci_upper = x_bar + t_star * s / np.sqrt(n)\n",
    "ci_lower = x_bar - t_star * s / np.sqrt(n)\n",
    "\n",
    "print(f'We are 99% sure that the true mean lies between {ci_lower:4.1f} and {ci_upper:5.1f}')"
   ]
  },
  {
   "cell_type": "code",
   "execution_count": 99,
   "id": "d7b26b47",
   "metadata": {},
   "outputs": [
    {
     "name": "stdout",
     "output_type": "stream",
     "text": [
      "We are 99% sure that the true mean lies between 94099.9 and 102499.9\n"
     ]
    }
   ],
   "source": [
    "# Sample size\n",
    "n = len(G)\n",
    "# Confidence level\n",
    "C = 0.99  # 99%\n",
    "# Significance level, α\n",
    "alpha = 1 - C\n",
    "# Number of tails\n",
    "tails = 2\n",
    "# Quantile (the cumulative probability)\n",
    "q = 1 - (alpha / tails)\n",
    "# Degrees of freedom\n",
    "dof = n - 1\n",
    "# Critical t-statistic, calculated using the percent-point function (aka the\n",
    "# quantile function) of the t-distribution\n",
    "\n",
    "t_star = t.ppf(q, dof)\n",
    "# Confidence interval\n",
    "x_bar = np.mean(G)\n",
    "s = np.std(G)\n",
    "ci_upper = x_bar + t_star * s / np.sqrt(n)\n",
    "ci_lower = x_bar - t_star * s / np.sqrt(n)\n",
    "\n",
    "print(f'We are 99% sure that the true mean lies between {ci_lower:4.1f} and {ci_upper:5.1f}')"
   ]
  },
  {
   "cell_type": "code",
   "execution_count": 98,
   "id": "2b174824",
   "metadata": {},
   "outputs": [
    {
     "name": "stdout",
     "output_type": "stream",
     "text": [
      "We are 99% sure that the true mean lies between 165.2 and 165.9\n"
     ]
    }
   ],
   "source": [
    "# Sample size\n",
    "n = len(W)\n",
    "# Confidence level\n",
    "C = 0.99  # 99%\n",
    "# Significance level, α\n",
    "alpha = 1 - C\n",
    "# Number of tails\n",
    "tails = 2\n",
    "# Quantile (the cumulative probability)\n",
    "q = 1 - (alpha / tails)\n",
    "# Degrees of freedom\n",
    "dof = n - 1\n",
    "# Critical t-statistic, calculated using the percent-point function (aka the\n",
    "# quantile function) of the t-distribution\n",
    "\n",
    "t_star = t.ppf(q, dof)\n",
    "# Confidence interval\n",
    "x_bar = np.mean(W)\n",
    "s = np.std(W)\n",
    "ci_upper = x_bar + t_star * s / np.sqrt(n)\n",
    "ci_lower = x_bar - t_star * s / np.sqrt(n)\n",
    "\n",
    "print(f'We are 99% sure that the true mean lies between {ci_lower:4.1f} and {ci_upper:5.1f}')"
   ]
  },
  {
   "cell_type": "markdown",
   "id": "59791b46",
   "metadata": {},
   "source": [
    "## 7 Proove Central Limit Theorom by using 'potential' column of the game_data."
   ]
  },
  {
   "cell_type": "markdown",
   "id": "9f26c3dd",
   "metadata": {},
   "source": [
    "The central limit theoram states that if we take large number of samples from any population with finite mean and variance then the distribution of the sample means will follow the normal distribution regradless of the type of the original distribution. Also the mean of these sample means will be equal to the population mean and standard error(standard deviation of the sample means) will decrease with increase in sample size."
   ]
  },
  {
   "cell_type": "code",
   "execution_count": 102,
   "id": "1bd0fe83",
   "metadata": {},
   "outputs": [],
   "source": [
    "import numpy.random as np\n",
    "import seaborn as sns\n",
    "import matplotlib.pyplot as plt\n",
    "population_size = len(Game['Potential'])\n",
    "population = np.rand(population_size)"
   ]
  },
  {
   "cell_type": "code",
   "execution_count": 103,
   "id": "8c83d628",
   "metadata": {},
   "outputs": [],
   "source": [
    "number_of_samples = 10000\n",
    "sample_means = np.rand(number_of_samples)\n",
    "sample_size = 1"
   ]
  },
  {
   "cell_type": "code",
   "execution_count": 104,
   "id": "768b0650",
   "metadata": {},
   "outputs": [],
   "source": [
    "c = np.rand(number_of_samples)\n",
    "for i in range(0,number_of_samples):\n",
    "    c = np.randint(1,population_size,sample_size)\n",
    "    sample_means[i] = population[c].mean()"
   ]
  },
  {
   "cell_type": "code",
   "execution_count": 107,
   "id": "3256767b",
   "metadata": {},
   "outputs": [
    {
     "name": "stderr",
     "output_type": "stream",
     "text": [
      "/opt/anaconda3/lib/python3.8/site-packages/seaborn/distributions.py:2557: FutureWarning: `distplot` is a deprecated function and will be removed in a future version. Please adapt your code to use either `displot` (a figure-level function with similar flexibility) or `histplot` (an axes-level function for histograms).\n",
      "  warnings.warn(msg, FutureWarning)\n",
      "/opt/anaconda3/lib/python3.8/site-packages/seaborn/distributions.py:2557: FutureWarning: `distplot` is a deprecated function and will be removed in a future version. Please adapt your code to use either `displot` (a figure-level function with similar flexibility) or `kdeplot` (an axes-level function for kernel density plots).\n",
      "  warnings.warn(msg, FutureWarning)\n"
     ]
    },
    {
     "data": {
      "image/png": "[encoded data removed]",
      "text/plain": [
       "<Figure size 432x288 with 2 Axes>"
      ]
     },
     "metadata": {
      "needs_background": "light"
     },
     "output_type": "display_data"
    }
   ],
   "source": [
    "plt.subplot(1,2,1)\n",
    "plt.xticks(fontsize=14)\n",
    "plt.yticks(fontsize=14)\n",
    "sns.distplot(sample_means,bins=int(180/5),hist = True,kde = False)\n",
    "plt.title('Histogram of Sample mean',fontsize=20)\n",
    "plt.xlabel('Sample mean',fontsize=20)\n",
    "plt.ylabel('Count',fontsize=20)\n",
    "plt.subplot(1,2,2)\n",
    "plt.xticks(fontsize=14)\n",
    "plt.yticks(fontsize=14)\n",
    "sns.distplot(sample_means,hist = False,kde = True)\n",
    "plt.title('Density of Sample mean',fontsize=20)\n",
    "plt.xlabel('Sample mean',fontsize=20)\n",
    "plt.ylabel('Density',fontsize=20)\n",
    "plt.subplots_adjust(bottom=0.1, right=2, top=0.9)"
   ]
  },
  {
   "cell_type": "code",
   "execution_count": 109,
   "id": "01b18d1f",
   "metadata": {},
   "outputs": [],
   "source": [
    "def sample_size_func(n): \n",
    "    sample_size = n\n",
    "    c = np.rand(number_of_samples)\n",
    "    for i in range(0,number_of_samples):\n",
    "        c = np.randint(1,population_size,sample_size)\n",
    "        sample_means[i] = population[c].mean()\n",
    "    plt.subplot(1,2,1)\n",
    "    plt.xticks(fontsize=14)\n",
    "    plt.yticks(fontsize=14)\n",
    "    sns.distplot(sample_means,bins=int(180/5),hist = True,kde = False)\n",
    "    plt.title('Histogram of Sample mean',fontsize=20)\n",
    "    plt.xlabel('Sample mean',fontsize=20)\n",
    "    plt.ylabel('Count',fontsize=20)\n",
    "    plt.subplot(1,2,2)\n",
    "    plt.xticks(fontsize=14)\n",
    "    plt.yticks(fontsize=14)\n",
    "    sns.distplot(sample_means,hist = False,kde = True)\n",
    "    plt.title('Density of Sample mean',fontsize=20)\n",
    "    plt.xlabel('Sample mean',fontsize=20)\n",
    "    plt.ylabel('Density',fontsize=20)\n",
    "    plt.subplots_adjust(bottom=0.1, right=2, top=0.9)"
   ]
  },
  {
   "cell_type": "code",
   "execution_count": null,
   "id": "f2340065",
   "metadata": {},
   "outputs": [],
   "source": [
    "### sample size = 2"
   ]
  },
  {
   "cell_type": "code",
   "execution_count": 110,
   "id": "e75c6e83",
   "metadata": {},
   "outputs": [
    {
     "name": "stderr",
     "output_type": "stream",
     "text": [
      "/opt/anaconda3/lib/python3.8/site-packages/seaborn/distributions.py:2557: FutureWarning: `distplot` is a deprecated function and will be removed in a future version. Please adapt your code to use either `displot` (a figure-level function with similar flexibility) or `histplot` (an axes-level function for histograms).\n",
      "  warnings.warn(msg, FutureWarning)\n",
      "/opt/anaconda3/lib/python3.8/site-packages/seaborn/distributions.py:2557: FutureWarning: `distplot` is a deprecated function and will be removed in a future version. Please adapt your code to use either `displot` (a figure-level function with similar flexibility) or `kdeplot` (an axes-level function for kernel density plots).\n",
      "  warnings.warn(msg, FutureWarning)\n"
     ]
    },
    {
     "data": {
      "image/png": "[encoded data removed]",
      "text/plain": [
       "<Figure size 432x288 with 2 Axes>"
      ]
     },
     "metadata": {
      "needs_background": "light"
     },
     "output_type": "display_data"
    }
   ],
   "source": [
    "sample_size_func(2)"
   ]
  },
  {
   "cell_type": "code",
   "execution_count": 111,
   "id": "377ba305",
   "metadata": {},
   "outputs": [
    {
     "name": "stderr",
     "output_type": "stream",
     "text": [
      "/opt/anaconda3/lib/python3.8/site-packages/seaborn/distributions.py:2557: FutureWarning: `distplot` is a deprecated function and will be removed in a future version. Please adapt your code to use either `displot` (a figure-level function with similar flexibility) or `histplot` (an axes-level function for histograms).\n",
      "  warnings.warn(msg, FutureWarning)\n",
      "/opt/anaconda3/lib/python3.8/site-packages/seaborn/distributions.py:2557: FutureWarning: `distplot` is a deprecated function and will be removed in a future version. Please adapt your code to use either `displot` (a figure-level function with similar flexibility) or `kdeplot` (an axes-level function for kernel density plots).\n",
      "  warnings.warn(msg, FutureWarning)\n"
     ]
    },
    {
     "data": {
      "image/png": "[encoded data removed]",
      "text/plain": [
       "<Figure size 432x288 with 2 Axes>"
      ]
     },
     "metadata": {
      "needs_background": "light"
     },
     "output_type": "display_data"
    }
   ],
   "source": [
    "sample_size_func(5)"
   ]
  },
  {
   "cell_type": "code",
   "execution_count": 112,
   "id": "b01f0791",
   "metadata": {},
   "outputs": [
    {
     "name": "stderr",
     "output_type": "stream",
     "text": [
      "/opt/anaconda3/lib/python3.8/site-packages/seaborn/distributions.py:2557: FutureWarning: `distplot` is a deprecated function and will be removed in a future version. Please adapt your code to use either `displot` (a figure-level function with similar flexibility) or `histplot` (an axes-level function for histograms).\n",
      "  warnings.warn(msg, FutureWarning)\n",
      "/opt/anaconda3/lib/python3.8/site-packages/seaborn/distributions.py:2557: FutureWarning: `distplot` is a deprecated function and will be removed in a future version. Please adapt your code to use either `displot` (a figure-level function with similar flexibility) or `kdeplot` (an axes-level function for kernel density plots).\n",
      "  warnings.warn(msg, FutureWarning)\n"
     ]
    },
    {
     "data": {
      "image/png": "[encoded data removed]",
      "text/plain": [
       "<Figure size 432x288 with 2 Axes>"
      ]
     },
     "metadata": {
      "needs_background": "light"
     },
     "output_type": "display_data"
    }
   ],
   "source": [
    "sample_size_func(10)"
   ]
  },
  {
   "cell_type": "code",
   "execution_count": 113,
   "id": "b4b1b631",
   "metadata": {},
   "outputs": [
    {
     "name": "stderr",
     "output_type": "stream",
     "text": [
      "/opt/anaconda3/lib/python3.8/site-packages/seaborn/distributions.py:2557: FutureWarning: `distplot` is a deprecated function and will be removed in a future version. Please adapt your code to use either `displot` (a figure-level function with similar flexibility) or `histplot` (an axes-level function for histograms).\n",
      "  warnings.warn(msg, FutureWarning)\n",
      "/opt/anaconda3/lib/python3.8/site-packages/seaborn/distributions.py:2557: FutureWarning: `distplot` is a deprecated function and will be removed in a future version. Please adapt your code to use either `displot` (a figure-level function with similar flexibility) or `kdeplot` (an axes-level function for kernel density plots).\n",
      "  warnings.warn(msg, FutureWarning)\n"
     ]
    },
    {
     "data": {
      "image/png": "[encoded data removed]",
      "text/plain": [
       "<Figure size 432x288 with 2 Axes>"
      ]
     },
     "metadata": {
      "needs_background": "light"
     },
     "output_type": "display_data"
    }
   ],
   "source": [
    "sample_size_func(30)"
   ]
  },
  {
   "cell_type": "markdown",
   "id": "3c91ff05",
   "metadata": {},
   "source": [
    "We can see that the distribution approaches normal as sample size gets larger. In theory the distribution is perfectly normal only when the sample size tends to infinity. But practically we can assume the distribution is normal when sample size is greater than or equal to 30."
   ]
  },
  {
   "cell_type": "markdown",
   "id": "a5310b4c",
   "metadata": {},
   "source": [
    "# Thank You"
   ]
  }
 ],
 "metadata": {
  "kernelspec": {
   "display_name": "Python 3",
   "language": "python",
   "name": "python3"
  },
  "language_info": {
   "codemirror_mode": {
    "name": "ipython",
    "version": 3
   },
   "file_extension": ".py",
   "mimetype": "text/x-python",
   "name": "python",
   "nbconvert_exporter": "python",
   "pygments_lexer": "ipython3",
   "version": "3.8.8"
  }
 },
 "nbformat": 4,
 "nbformat_minor": 5
}
